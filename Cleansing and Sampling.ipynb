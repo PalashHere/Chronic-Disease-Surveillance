{
 "cells": [
  {
   "cell_type": "code",
   "execution_count": 11,
   "id": "5a52ae05",
   "metadata": {},
   "outputs": [
    {
     "name": "stdout",
     "output_type": "stream",
     "text": [
      "Requirement already satisfied: pandas in c:\\users\\palash\\appdata\\local\\programs\\python\\python311\\lib\\site-packages (2.2.2)\n",
      "Collecting snowflake-connector-python\n",
      "  Downloading snowflake_connector_python-3.15.0-cp311-cp311-win_amd64.whl.metadata (72 kB)\n",
      "     ---------------------------------------- 0.0/72.3 kB ? eta -:--:--\n",
      "     ----- ---------------------------------- 10.2/72.3 kB ? eta -:--:--\n",
      "     ---------------- --------------------- 30.7/72.3 kB 262.6 kB/s eta 0:00:01\n",
      "     ---------------- --------------------- 30.7/72.3 kB 262.6 kB/s eta 0:00:01\n",
      "     ---------------- --------------------- 30.7/72.3 kB 262.6 kB/s eta 0:00:01\n",
      "     ---------------- --------------------- 30.7/72.3 kB 262.6 kB/s eta 0:00:01\n",
      "     -------------------------------------- 72.3/72.3 kB 248.2 kB/s eta 0:00:00\n",
      "Collecting snowflake-sqlalchemy\n",
      "  Downloading snowflake_sqlalchemy-1.7.3-py3-none-any.whl.metadata (28 kB)\n",
      "Requirement already satisfied: numpy>=1.23.2 in c:\\users\\palash\\appdata\\local\\programs\\python\\python311\\lib\\site-packages (from pandas) (1.26.4)\n",
      "Requirement already satisfied: python-dateutil>=2.8.2 in c:\\users\\palash\\appdata\\local\\programs\\python\\python311\\lib\\site-packages (from pandas) (2.9.0.post0)\n",
      "Requirement already satisfied: pytz>=2020.1 in c:\\users\\palash\\appdata\\local\\programs\\python\\python311\\lib\\site-packages (from pandas) (2024.1)\n",
      "Requirement already satisfied: tzdata>=2022.7 in c:\\users\\palash\\appdata\\local\\programs\\python\\python311\\lib\\site-packages (from pandas) (2024.1)\n",
      "Collecting asn1crypto<2.0.0,>0.24.0 (from snowflake-connector-python)\n",
      "  Downloading asn1crypto-1.5.1-py2.py3-none-any.whl.metadata (13 kB)\n",
      "Collecting boto3>=1.24 (from snowflake-connector-python)\n",
      "  Downloading boto3-1.38.10-py3-none-any.whl.metadata (6.6 kB)\n",
      "Collecting botocore>=1.24 (from snowflake-connector-python)\n",
      "  Downloading botocore-1.38.10-py3-none-any.whl.metadata (5.7 kB)\n",
      "Collecting cffi<2.0.0,>=1.9 (from snowflake-connector-python)\n",
      "  Downloading cffi-1.17.1-cp311-cp311-win_amd64.whl.metadata (1.6 kB)\n",
      "Collecting cryptography>=3.1.0 (from snowflake-connector-python)\n",
      "  Downloading cryptography-44.0.3-cp39-abi3-win_amd64.whl.metadata (5.7 kB)\n",
      "Collecting pyOpenSSL<26.0.0,>=22.0.0 (from snowflake-connector-python)\n",
      "  Downloading pyOpenSSL-25.0.0-py3-none-any.whl.metadata (16 kB)\n",
      "Collecting pyjwt<3.0.0 (from snowflake-connector-python)\n",
      "  Downloading PyJWT-2.10.1-py3-none-any.whl.metadata (4.0 kB)\n",
      "Requirement already satisfied: requests<3.0.0 in c:\\users\\palash\\appdata\\local\\programs\\python\\python311\\lib\\site-packages (from snowflake-connector-python) (2.32.3)\n",
      "Requirement already satisfied: packaging in c:\\users\\palash\\appdata\\roaming\\python\\python311\\site-packages (from snowflake-connector-python) (24.2)\n",
      "Requirement already satisfied: charset_normalizer<4,>=2 in c:\\users\\palash\\appdata\\local\\programs\\python\\python311\\lib\\site-packages (from snowflake-connector-python) (3.4.1)\n",
      "Requirement already satisfied: idna<4,>=2.5 in c:\\users\\palash\\appdata\\local\\programs\\python\\python311\\lib\\site-packages (from snowflake-connector-python) (3.10)\n",
      "Requirement already satisfied: certifi>=2017.4.17 in c:\\users\\palash\\appdata\\local\\programs\\python\\python311\\lib\\site-packages (from snowflake-connector-python) (2025.1.31)\n",
      "Requirement already satisfied: typing_extensions<5,>=4.3 in c:\\users\\palash\\appdata\\roaming\\python\\python311\\site-packages (from snowflake-connector-python) (4.12.2)\n",
      "Collecting filelock<4,>=3.5 (from snowflake-connector-python)\n",
      "  Downloading filelock-3.18.0-py3-none-any.whl.metadata (2.9 kB)\n",
      "Collecting sortedcontainers>=2.4.0 (from snowflake-connector-python)\n",
      "  Downloading sortedcontainers-2.4.0-py2.py3-none-any.whl.metadata (10 kB)\n",
      "Requirement already satisfied: platformdirs<5.0.0,>=2.6.0 in c:\\users\\palash\\appdata\\roaming\\python\\python311\\site-packages (from snowflake-connector-python) (4.3.6)\n",
      "Collecting tomlkit (from snowflake-connector-python)\n",
      "  Downloading tomlkit-0.13.2-py3-none-any.whl.metadata (2.7 kB)\n",
      "Requirement already satisfied: sqlalchemy>=1.4.19 in c:\\users\\palash\\appdata\\local\\programs\\python\\python311\\lib\\site-packages (from snowflake-sqlalchemy) (2.0.40)\n",
      "Collecting jmespath<2.0.0,>=0.7.1 (from boto3>=1.24->snowflake-connector-python)\n",
      "  Downloading jmespath-1.0.1-py3-none-any.whl.metadata (7.6 kB)\n",
      "Collecting s3transfer<0.13.0,>=0.12.0 (from boto3>=1.24->snowflake-connector-python)\n",
      "  Downloading s3transfer-0.12.0-py3-none-any.whl.metadata (1.7 kB)\n",
      "Requirement already satisfied: urllib3!=2.2.0,<3,>=1.25.4 in c:\\users\\palash\\appdata\\local\\programs\\python\\python311\\lib\\site-packages (from botocore>=1.24->snowflake-connector-python) (2.3.0)\n",
      "Collecting pycparser (from cffi<2.0.0,>=1.9->snowflake-connector-python)\n",
      "  Downloading pycparser-2.22-py3-none-any.whl.metadata (943 bytes)\n",
      "Requirement already satisfied: six>=1.5 in c:\\users\\palash\\appdata\\local\\programs\\python\\python311\\lib\\site-packages (from python-dateutil>=2.8.2->pandas) (1.16.0)\n",
      "Requirement already satisfied: greenlet>=1 in c:\\users\\palash\\appdata\\local\\programs\\python\\python311\\lib\\site-packages (from sqlalchemy>=1.4.19->snowflake-sqlalchemy) (3.2.1)\n",
      "Downloading snowflake_connector_python-3.15.0-cp311-cp311-win_amd64.whl (948 kB)\n",
      "   ---------------------------------------- 0.0/948.5 kB ? eta -:--:--\n",
      "   --- ------------------------------------ 81.9/948.5 kB 2.3 MB/s eta 0:00:01\n",
      "   ---------- ----------------------------- 245.8/948.5 kB 3.8 MB/s eta 0:00:01\n",
      "   ------------ --------------------------- 307.2/948.5 kB 3.2 MB/s eta 0:00:01\n",
      "   ------------ --------------------------- 307.2/948.5 kB 3.2 MB/s eta 0:00:01\n",
      "   ----------------- ---------------------- 409.6/948.5 kB 1.8 MB/s eta 0:00:01\n",
      "   ------------------ --------------------- 440.3/948.5 kB 1.6 MB/s eta 0:00:01\n",
      "   ------------------------- -------------- 614.4/948.5 kB 1.9 MB/s eta 0:00:01\n",
      "   ------------------------- -------------- 614.4/948.5 kB 1.9 MB/s eta 0:00:01\n",
      "   ------------------------- -------------- 614.4/948.5 kB 1.9 MB/s eta 0:00:01\n",
      "   ------------------------------- -------- 747.5/948.5 kB 1.6 MB/s eta 0:00:01\n",
      "   ---------------------------------------- 948.5/948.5 kB 1.9 MB/s eta 0:00:00\n",
      "Downloading snowflake_sqlalchemy-1.7.3-py3-none-any.whl (70 kB)\n",
      "   ---------------------------------------- 0.0/70.0 kB ? eta -:--:--\n",
      "   ---------------------------------------- 70.0/70.0 kB 4.0 MB/s eta 0:00:00\n",
      "Downloading asn1crypto-1.5.1-py2.py3-none-any.whl (105 kB)\n",
      "   ---------------------------------------- 0.0/105.0 kB ? eta -:--:--\n",
      "   ---------------------------------------- 105.0/105.0 kB 5.9 MB/s eta 0:00:00\n",
      "Downloading boto3-1.38.10-py3-none-any.whl (139 kB)\n",
      "   ---------------------------------------- 0.0/139.9 kB ? eta -:--:--\n",
      "   ----------------- ---------------------- 61.4/139.9 kB ? eta -:--:--\n",
      "   ----------------- ---------------------- 61.4/139.9 kB ? eta -:--:--\n",
      "   ---------------------------------------- 139.9/139.9 kB 1.0 MB/s eta 0:00:00\n",
      "Downloading botocore-1.38.10-py3-none-any.whl (13.5 MB)\n",
      "   ---------------------------------------- 0.0/13.5 MB ? eta -:--:--\n",
      "    --------------------------------------- 0.3/13.5 MB 8.6 MB/s eta 0:00:02\n",
      "   - -------------------------------------- 0.6/13.5 MB 9.6 MB/s eta 0:00:02\n",
      "   - -------------------------------------- 0.6/13.5 MB 9.6 MB/s eta 0:00:02\n",
      "   -- ------------------------------------- 0.8/13.5 MB 4.3 MB/s eta 0:00:03\n",
      "   -- ------------------------------------- 0.9/13.5 MB 4.6 MB/s eta 0:00:03\n",
      "   -- ------------------------------------- 1.0/13.5 MB 3.8 MB/s eta 0:00:04\n",
      "   --- ------------------------------------ 1.1/13.5 MB 3.8 MB/s eta 0:00:04\n",
      "   --- ------------------------------------ 1.1/13.5 MB 3.8 MB/s eta 0:00:04\n",
      "   --- ------------------------------------ 1.1/13.5 MB 3.8 MB/s eta 0:00:04\n",
      "   ---- ----------------------------------- 1.4/13.5 MB 3.1 MB/s eta 0:00:04\n",
      "   ---- ----------------------------------- 1.5/13.5 MB 3.1 MB/s eta 0:00:04\n",
      "   ----- ---------------------------------- 1.7/13.5 MB 3.1 MB/s eta 0:00:04\n",
      "   ----- ---------------------------------- 1.9/13.5 MB 3.3 MB/s eta 0:00:04\n",
      "   ------ --------------------------------- 2.2/13.5 MB 3.4 MB/s eta 0:00:04\n",
      "   ------ --------------------------------- 2.2/13.5 MB 3.4 MB/s eta 0:00:04\n",
      "   ------ --------------------------------- 2.2/13.5 MB 3.4 MB/s eta 0:00:04\n",
      "   ------ --------------------------------- 2.3/13.5 MB 3.0 MB/s eta 0:00:04\n",
      "   ------- -------------------------------- 2.5/13.5 MB 3.0 MB/s eta 0:00:04\n",
      "   ------- -------------------------------- 2.6/13.5 MB 3.0 MB/s eta 0:00:04\n",
      "   ------- -------------------------------- 2.7/13.5 MB 3.0 MB/s eta 0:00:04\n",
      "   -------- ------------------------------- 2.7/13.5 MB 2.8 MB/s eta 0:00:04\n",
      "   -------- ------------------------------- 2.7/13.5 MB 2.8 MB/s eta 0:00:04\n",
      "   -------- ------------------------------- 2.8/13.5 MB 2.6 MB/s eta 0:00:05\n",
      "   -------- ------------------------------- 2.8/13.5 MB 2.5 MB/s eta 0:00:05\n",
      "   -------- ------------------------------- 2.9/13.5 MB 2.5 MB/s eta 0:00:05\n",
      "   -------- ------------------------------- 2.9/13.5 MB 2.5 MB/s eta 0:00:05\n",
      "   -------- ------------------------------- 2.9/13.5 MB 2.5 MB/s eta 0:00:05\n",
      "   -------- ------------------------------- 2.9/13.5 MB 2.3 MB/s eta 0:00:05\n",
      "   -------- ------------------------------- 3.0/13.5 MB 2.2 MB/s eta 0:00:05\n",
      "   -------- ------------------------------- 3.0/13.5 MB 2.2 MB/s eta 0:00:05\n",
      "   -------- ------------------------------- 3.0/13.5 MB 2.2 MB/s eta 0:00:05\n",
      "   -------- ------------------------------- 3.0/13.5 MB 2.1 MB/s eta 0:00:06\n",
      "   -------- ------------------------------- 3.0/13.5 MB 2.1 MB/s eta 0:00:06\n",
      "   -------- ------------------------------- 3.0/13.5 MB 1.9 MB/s eta 0:00:06\n",
      "   -------- ------------------------------- 3.0/13.5 MB 1.9 MB/s eta 0:00:06\n",
      "   -------- ------------------------------- 3.0/13.5 MB 1.8 MB/s eta 0:00:06\n",
      "   -------- ------------------------------- 3.0/13.5 MB 1.8 MB/s eta 0:00:06\n",
      "   -------- ------------------------------- 3.0/13.5 MB 1.8 MB/s eta 0:00:06\n",
      "   --------- ------------------------------ 3.1/13.5 MB 1.7 MB/s eta 0:00:07\n",
      "   --------- ------------------------------ 3.1/13.5 MB 1.7 MB/s eta 0:00:07\n",
      "   --------- ------------------------------ 3.1/13.5 MB 1.7 MB/s eta 0:00:07\n",
      "   --------- ------------------------------ 3.2/13.5 MB 1.6 MB/s eta 0:00:07\n",
      "   --------- ------------------------------ 3.2/13.5 MB 1.6 MB/s eta 0:00:07\n",
      "   --------- ------------------------------ 3.2/13.5 MB 1.6 MB/s eta 0:00:07\n",
      "   --------- ------------------------------ 3.2/13.5 MB 1.6 MB/s eta 0:00:07\n",
      "   --------- ------------------------------ 3.2/13.5 MB 1.5 MB/s eta 0:00:07\n",
      "   --------- ------------------------------ 3.2/13.5 MB 1.5 MB/s eta 0:00:07\n",
      "   --------- ------------------------------ 3.2/13.5 MB 1.5 MB/s eta 0:00:08\n",
      "   --------- ------------------------------ 3.3/13.5 MB 1.4 MB/s eta 0:00:08\n",
      "   --------- ------------------------------ 3.3/13.5 MB 1.4 MB/s eta 0:00:08\n",
      "   --------- ------------------------------ 3.3/13.5 MB 1.4 MB/s eta 0:00:08\n",
      "   --------- ------------------------------ 3.3/13.5 MB 1.4 MB/s eta 0:00:08\n",
      "   --------- ------------------------------ 3.3/13.5 MB 1.4 MB/s eta 0:00:08\n",
      "   --------- ------------------------------ 3.3/13.5 MB 1.3 MB/s eta 0:00:08\n",
      "   ---------- ----------------------------- 3.4/13.5 MB 1.3 MB/s eta 0:00:08\n",
      "   ---------- ----------------------------- 3.4/13.5 MB 1.3 MB/s eta 0:00:08\n",
      "   ---------- ----------------------------- 3.5/13.5 MB 1.3 MB/s eta 0:00:08\n",
      "   ---------- ----------------------------- 3.5/13.5 MB 1.3 MB/s eta 0:00:08\n",
      "   ---------- ----------------------------- 3.5/13.5 MB 1.3 MB/s eta 0:00:08\n",
      "   ---------- ----------------------------- 3.6/13.5 MB 1.3 MB/s eta 0:00:08\n",
      "   ---------- ----------------------------- 3.6/13.5 MB 1.3 MB/s eta 0:00:08\n",
      "   ---------- ----------------------------- 3.6/13.5 MB 1.3 MB/s eta 0:00:08\n",
      "   ---------- ----------------------------- 3.6/13.5 MB 1.3 MB/s eta 0:00:08\n",
      "   ---------- ----------------------------- 3.7/13.5 MB 1.2 MB/s eta 0:00:08\n",
      "   ---------- ----------------------------- 3.7/13.5 MB 1.2 MB/s eta 0:00:08\n",
      "   ----------- ---------------------------- 3.7/13.5 MB 1.2 MB/s eta 0:00:09\n",
      "   ----------- ---------------------------- 3.7/13.5 MB 1.2 MB/s eta 0:00:09\n",
      "   ----------- ---------------------------- 3.7/13.5 MB 1.2 MB/s eta 0:00:09\n",
      "   ----------- ---------------------------- 3.8/13.5 MB 1.2 MB/s eta 0:00:09\n",
      "   ----------- ---------------------------- 3.8/13.5 MB 1.2 MB/s eta 0:00:09\n",
      "   ----------- ---------------------------- 3.8/13.5 MB 1.2 MB/s eta 0:00:09\n",
      "   ----------- ---------------------------- 3.8/13.5 MB 1.1 MB/s eta 0:00:09\n",
      "   ----------- ---------------------------- 3.8/13.5 MB 1.1 MB/s eta 0:00:09\n",
      "   ----------- ---------------------------- 3.9/13.5 MB 1.1 MB/s eta 0:00:09\n",
      "   ----------- ---------------------------- 3.9/13.5 MB 1.1 MB/s eta 0:00:09\n",
      "   ----------- ---------------------------- 3.9/13.5 MB 1.1 MB/s eta 0:00:09\n",
      "   ----------- ---------------------------- 3.9/13.5 MB 1.1 MB/s eta 0:00:09\n",
      "   ----------- ---------------------------- 3.9/13.5 MB 1.1 MB/s eta 0:00:09\n",
      "   ----------- ---------------------------- 4.0/13.5 MB 1.1 MB/s eta 0:00:09\n",
      "   ----------- ---------------------------- 4.0/13.5 MB 1.1 MB/s eta 0:00:09\n",
      "   ----------- ---------------------------- 4.0/13.5 MB 1.1 MB/s eta 0:00:09\n",
      "   ----------- ---------------------------- 4.0/13.5 MB 1.1 MB/s eta 0:00:10\n",
      "   ----------- ---------------------------- 4.0/13.5 MB 1.1 MB/s eta 0:00:10\n",
      "   ----------- ---------------------------- 4.0/13.5 MB 1.1 MB/s eta 0:00:10\n",
      "   ----------- ---------------------------- 4.1/13.5 MB 1.0 MB/s eta 0:00:10\n",
      "   ------------ --------------------------- 4.1/13.5 MB 1.0 MB/s eta 0:00:10\n",
      "   ------------ --------------------------- 4.1/13.5 MB 1.0 MB/s eta 0:00:10\n",
      "   ------------ --------------------------- 4.2/13.5 MB 1.0 MB/s eta 0:00:10\n",
      "   ------------ --------------------------- 4.3/13.5 MB 1.0 MB/s eta 0:00:09\n",
      "   ------------ --------------------------- 4.3/13.5 MB 1.0 MB/s eta 0:00:09\n",
      "   ------------ --------------------------- 4.3/13.5 MB 1.0 MB/s eta 0:00:09\n",
      "   ------------ --------------------------- 4.4/13.5 MB 1.0 MB/s eta 0:00:09\n",
      "   ------------- -------------------------- 4.4/13.5 MB 1.0 MB/s eta 0:00:09\n",
      "   ------------- -------------------------- 4.4/13.5 MB 1.0 MB/s eta 0:00:09\n",
      "   ------------- -------------------------- 4.5/13.5 MB 1.0 MB/s eta 0:00:09\n",
      "   ------------- -------------------------- 4.5/13.5 MB 1.0 MB/s eta 0:00:09\n",
      "   ------------- -------------------------- 4.5/13.5 MB 1.0 MB/s eta 0:00:09\n",
      "   ------------- -------------------------- 4.6/13.5 MB 1.0 MB/s eta 0:00:09\n",
      "   ------------- -------------------------- 4.6/13.5 MB 1.0 MB/s eta 0:00:09\n",
      "   ------------- -------------------------- 4.6/13.5 MB 1.0 MB/s eta 0:00:09\n",
      "   ------------- -------------------------- 4.7/13.5 MB 1.0 MB/s eta 0:00:09\n",
      "   ------------- -------------------------- 4.7/13.5 MB 1.0 MB/s eta 0:00:09\n",
      "   ------------- -------------------------- 4.7/13.5 MB 1.0 MB/s eta 0:00:09\n",
      "   ------------- -------------------------- 4.7/13.5 MB 980.8 kB/s eta 0:00:09\n",
      "   -------------- ------------------------- 4.8/13.5 MB 979.8 kB/s eta 0:00:09\n",
      "   -------------- ------------------------- 4.8/13.5 MB 979.8 kB/s eta 0:00:09\n",
      "   -------------- ------------------------- 4.8/13.5 MB 971.6 kB/s eta 0:00:10\n",
      "   -------------- ------------------------- 4.8/13.5 MB 966.7 kB/s eta 0:00:09\n",
      "   -------------- ------------------------- 4.9/13.5 MB 963.7 kB/s eta 0:00:09\n",
      "   -------------- ------------------------- 4.9/13.5 MB 964.9 kB/s eta 0:00:09\n",
      "   -------------- ------------------------- 5.0/13.5 MB 968.0 kB/s eta 0:00:09\n",
      "   -------------- ------------------------- 5.0/13.5 MB 972.1 kB/s eta 0:00:09\n",
      "   -------------- ------------------------- 5.1/13.5 MB 969.3 kB/s eta 0:00:09\n",
      "   --------------- ------------------------ 5.1/13.5 MB 969.4 kB/s eta 0:00:09\n",
      "   --------------- ------------------------ 5.2/13.5 MB 971.4 kB/s eta 0:00:09\n",
      "   --------------- ------------------------ 5.2/13.5 MB 967.8 kB/s eta 0:00:09\n",
      "   --------------- ------------------------ 5.2/13.5 MB 967.8 kB/s eta 0:00:09\n",
      "   --------------- ------------------------ 5.3/13.5 MB 966.1 kB/s eta 0:00:09\n",
      "   --------------- ------------------------ 5.4/13.5 MB 976.5 kB/s eta 0:00:09\n",
      "   ---------------- ----------------------- 5.4/13.5 MB 977.4 kB/s eta 0:00:09\n",
      "   ---------------- ----------------------- 5.6/13.5 MB 989.3 kB/s eta 0:00:09\n",
      "   ---------------- ----------------------- 5.7/13.5 MB 1.0 MB/s eta 0:00:08\n",
      "   ----------------- ---------------------- 5.8/13.5 MB 1.0 MB/s eta 0:00:08\n",
      "   ----------------- ---------------------- 5.8/13.5 MB 1.0 MB/s eta 0:00:08\n",
      "   ----------------- ---------------------- 5.9/13.5 MB 1.0 MB/s eta 0:00:08\n",
      "   ----------------- ---------------------- 5.9/13.5 MB 1.0 MB/s eta 0:00:08\n",
      "   ------------------ --------------------- 6.1/13.5 MB 1.0 MB/s eta 0:00:08\n",
      "   ------------------ --------------------- 6.2/13.5 MB 1.0 MB/s eta 0:00:07\n",
      "   ------------------ --------------------- 6.4/13.5 MB 1.1 MB/s eta 0:00:07\n",
      "   ------------------- -------------------- 6.4/13.5 MB 1.1 MB/s eta 0:00:07\n",
      "   ------------------- -------------------- 6.5/13.5 MB 1.1 MB/s eta 0:00:07\n",
      "   ------------------- -------------------- 6.5/13.5 MB 1.1 MB/s eta 0:00:07\n",
      "   ------------------- -------------------- 6.5/13.5 MB 1.1 MB/s eta 0:00:07\n",
      "   ------------------- -------------------- 6.6/13.5 MB 1.1 MB/s eta 0:00:07\n",
      "   ------------------- -------------------- 6.7/13.5 MB 1.1 MB/s eta 0:00:07\n",
      "   ------------------- -------------------- 6.8/13.5 MB 1.1 MB/s eta 0:00:07\n",
      "   -------------------- ------------------- 6.8/13.5 MB 1.1 MB/s eta 0:00:07\n",
      "   -------------------- ------------------- 6.9/13.5 MB 1.1 MB/s eta 0:00:07\n",
      "   -------------------- ------------------- 7.0/13.5 MB 1.1 MB/s eta 0:00:07\n",
      "   -------------------- ------------------- 7.1/13.5 MB 1.1 MB/s eta 0:00:06\n",
      "   -------------------- ------------------- 7.1/13.5 MB 1.1 MB/s eta 0:00:06\n",
      "   --------------------- ------------------ 7.2/13.5 MB 1.1 MB/s eta 0:00:06\n",
      "   --------------------- ------------------ 7.3/13.5 MB 1.1 MB/s eta 0:00:06\n",
      "   --------------------- ------------------ 7.4/13.5 MB 1.1 MB/s eta 0:00:06\n",
      "   ---------------------- ----------------- 7.5/13.5 MB 1.1 MB/s eta 0:00:06\n",
      "   ---------------------- ----------------- 7.6/13.5 MB 1.1 MB/s eta 0:00:06\n",
      "   ---------------------- ----------------- 7.8/13.5 MB 1.1 MB/s eta 0:00:06\n",
      "   ----------------------- ---------------- 7.8/13.5 MB 1.1 MB/s eta 0:00:05\n",
      "   ----------------------- ---------------- 8.0/13.5 MB 1.2 MB/s eta 0:00:05\n",
      "   ----------------------- ---------------- 8.1/13.5 MB 1.2 MB/s eta 0:00:05\n",
      "   ------------------------ --------------- 8.2/13.5 MB 1.2 MB/s eta 0:00:05\n",
      "   ------------------------ --------------- 8.4/13.5 MB 1.2 MB/s eta 0:00:05\n",
      "   ------------------------- -------------- 8.6/13.5 MB 1.2 MB/s eta 0:00:05\n",
      "   ------------------------- -------------- 8.7/13.5 MB 1.2 MB/s eta 0:00:05\n",
      "   ------------------------- -------------- 8.7/13.5 MB 1.2 MB/s eta 0:00:05\n",
      "   ------------------------- -------------- 8.8/13.5 MB 1.2 MB/s eta 0:00:04\n",
      "   -------------------------- ------------- 8.9/13.5 MB 1.2 MB/s eta 0:00:04\n",
      "   -------------------------- ------------- 9.0/13.5 MB 1.2 MB/s eta 0:00:04\n",
      "   -------------------------- ------------- 9.1/13.5 MB 1.2 MB/s eta 0:00:04\n",
      "   --------------------------- ------------ 9.2/13.5 MB 1.2 MB/s eta 0:00:04\n",
      "   --------------------------- ------------ 9.3/13.5 MB 1.2 MB/s eta 0:00:04\n",
      "   ---------------------------- ----------- 9.6/13.5 MB 1.3 MB/s eta 0:00:04\n",
      "   ---------------------------- ----------- 9.8/13.5 MB 1.3 MB/s eta 0:00:03\n",
      "   ----------------------------- ---------- 10.0/13.5 MB 1.3 MB/s eta 0:00:03\n",
      "   ------------------------------ --------- 10.3/13.5 MB 1.3 MB/s eta 0:00:03\n",
      "   ------------------------------- -------- 10.6/13.5 MB 1.3 MB/s eta 0:00:03\n",
      "   ------------------------------- -------- 10.8/13.5 MB 1.3 MB/s eta 0:00:03\n",
      "   -------------------------------- ------- 10.9/13.5 MB 1.3 MB/s eta 0:00:02\n",
      "   --------------------------------- ------ 11.3/13.5 MB 1.4 MB/s eta 0:00:02\n",
      "   ---------------------------------- ----- 11.5/13.5 MB 1.4 MB/s eta 0:00:02\n",
      "   ---------------------------------- ----- 11.7/13.5 MB 1.4 MB/s eta 0:00:02\n",
      "   ----------------------------------- ---- 12.0/13.5 MB 1.4 MB/s eta 0:00:02\n",
      "   ----------------------------------- ---- 12.1/13.5 MB 1.4 MB/s eta 0:00:02\n",
      "   ------------------------------------ --- 12.3/13.5 MB 1.4 MB/s eta 0:00:01\n",
      "   ------------------------------------- -- 12.6/13.5 MB 1.4 MB/s eta 0:00:01\n",
      "   -------------------------------------- - 12.9/13.5 MB 1.4 MB/s eta 0:00:01\n",
      "   ---------------------------------------  13.3/13.5 MB 1.6 MB/s eta 0:00:01\n",
      "   ---------------------------------------  13.5/13.5 MB 1.7 MB/s eta 0:00:01\n",
      "   ---------------------------------------- 13.5/13.5 MB 1.7 MB/s eta 0:00:00\n",
      "Downloading cffi-1.17.1-cp311-cp311-win_amd64.whl (181 kB)\n",
      "   ---------------------------------------- 0.0/181.4 kB ? eta -:--:--\n",
      "   --------------------------------------- 181.4/181.4 kB 10.7 MB/s eta 0:00:00\n",
      "Downloading cryptography-44.0.3-cp39-abi3-win_amd64.whl (3.2 MB)\n",
      "   ---------------------------------------- 0.0/3.2 MB ? eta -:--:--\n",
      "   ------- -------------------------------- 0.6/3.2 MB 20.1 MB/s eta 0:00:01\n",
      "   --------------- ------------------------ 1.2/3.2 MB 15.5 MB/s eta 0:00:01\n",
      "   ---------------------- ----------------- 1.8/3.2 MB 14.2 MB/s eta 0:00:01\n",
      "   ------------------------------ --------- 2.5/3.2 MB 14.3 MB/s eta 0:00:01\n",
      "   ---------------------------------------  3.2/3.2 MB 14.6 MB/s eta 0:00:01\n",
      "   ---------------------------------------- 3.2/3.2 MB 12.8 MB/s eta 0:00:00\n",
      "Downloading filelock-3.18.0-py3-none-any.whl (16 kB)\n",
      "Downloading PyJWT-2.10.1-py3-none-any.whl (22 kB)\n",
      "Downloading pyOpenSSL-25.0.0-py3-none-any.whl (56 kB)\n",
      "   ---------------------------------------- 0.0/56.5 kB ? eta -:--:--\n",
      "   ---------------------------------------- 56.5/56.5 kB 2.9 MB/s eta 0:00:00\n",
      "Downloading sortedcontainers-2.4.0-py2.py3-none-any.whl (29 kB)\n",
      "Downloading tomlkit-0.13.2-py3-none-any.whl (37 kB)\n",
      "Downloading jmespath-1.0.1-py3-none-any.whl (20 kB)\n",
      "Downloading s3transfer-0.12.0-py3-none-any.whl (84 kB)\n",
      "   ---------------------------------------- 0.0/84.8 kB ? eta -:--:--\n",
      "   ---------------------------- ----------- 61.4/84.8 kB ? eta -:--:--\n",
      "   -------------------------------------- - 81.9/84.8 kB 919.0 kB/s eta 0:00:01\n",
      "   ---------------------------------------- 84.8/84.8 kB 801.4 kB/s eta 0:00:00\n",
      "Downloading pycparser-2.22-py3-none-any.whl (117 kB)\n",
      "   ---------------------------------------- 0.0/117.6 kB ? eta -:--:--\n",
      "   ------------------------------- -------- 92.2/117.6 kB 2.6 MB/s eta 0:00:01\n",
      "   ---------------------------------------- 117.6/117.6 kB 2.3 MB/s eta 0:00:00\n",
      "Installing collected packages: sortedcontainers, asn1crypto, tomlkit, pyjwt, pycparser, jmespath, filelock, cffi, botocore, s3transfer, cryptography, pyOpenSSL, boto3, snowflake-connector-python, snowflake-sqlalchemy\n",
      "Successfully installed asn1crypto-1.5.1 boto3-1.38.10 botocore-1.38.10 cffi-1.17.1 cryptography-44.0.3 filelock-3.18.0 jmespath-1.0.1 pyOpenSSL-25.0.0 pycparser-2.22 pyjwt-2.10.1 s3transfer-0.12.0 snowflake-connector-python-3.15.0 snowflake-sqlalchemy-1.7.3 sortedcontainers-2.4.0 tomlkit-0.13.2\n"
     ]
    },
    {
     "name": "stderr",
     "output_type": "stream",
     "text": [
      "\n",
      "[notice] A new release of pip is available: 24.0 -> 25.1\n",
      "[notice] To update, run: python.exe -m pip install --upgrade pip\n"
     ]
    }
   ],
   "source": [
    "! pip install pandas snowflake-connector-python snowflake-sqlalchemy"
   ]
  },
  {
   "cell_type": "code",
   "execution_count": 1,
   "id": "1a195abc",
   "metadata": {},
   "outputs": [],
   "source": [
    "import pandas as pd\n",
    "from sqlalchemy import create_engine\n",
    "import snowflake.connector\n",
    "from snowflake.sqlalchemy import URL"
   ]
  },
  {
   "cell_type": "code",
   "execution_count": 2,
   "id": "6ff594e5",
   "metadata": {},
   "outputs": [],
   "source": [
    "conn = create_engine(URL(\n",
    "    user='PALASHHERE',\n",
    "    password='SureshRaina3004@',\n",
    "    account='foa54253.east-us-2.azure',  \n",
    "    warehouse='COMPUTE_WH',\n",
    "    database='HEALTH_DATA',\n",
    "    schema='CHRONIC_DISEASE'\n",
    "))\n"
   ]
  },
  {
   "cell_type": "code",
   "execution_count": 3,
   "id": "ce8066c2",
   "metadata": {},
   "outputs": [],
   "source": [
    "query = \"SELECT * FROM RAW_INDICATORS\"\n",
    "df = pd.read_sql(query, conn)"
   ]
  },
  {
   "cell_type": "code",
   "execution_count": 4,
   "id": "a999231c",
   "metadata": {},
   "outputs": [
    {
     "data": {
      "text/plain": [
       "(309215, 34)"
      ]
     },
     "execution_count": 4,
     "metadata": {},
     "output_type": "execute_result"
    }
   ],
   "source": [
    "df.shape"
   ]
  },
  {
   "cell_type": "code",
   "execution_count": 32,
   "id": "705025c1",
   "metadata": {},
   "outputs": [],
   "source": [
    "df.dropna(axis=1, how='all', inplace=True)"
   ]
  },
  {
   "cell_type": "code",
   "execution_count": 33,
   "id": "a0ae5249",
   "metadata": {},
   "outputs": [
    {
     "data": {
      "text/plain": [
       "Index(['yearstart', 'yearend', 'locationabbr', 'locationdesc', 'datasource',\n",
       "       'topic', 'question', 'datavalueunit', 'datavaluetype', 'datavalue',\n",
       "       'datavaluealt', 'datavaluefootnotesymbol', 'datavaluefootnote',\n",
       "       'lowconfidencelimit', 'highconfidencelimit', 'stratificationcategory1',\n",
       "       'stratification1', 'geolocation', 'locationid', 'topicid', 'questionid',\n",
       "       'datavaluetypeid', 'stratificationcategoryid1', 'stratificationid1'],\n",
       "      dtype='object')"
      ]
     },
     "execution_count": 33,
     "metadata": {},
     "output_type": "execute_result"
    }
   ],
   "source": [
    "df.columns"
   ]
  },
  {
   "cell_type": "code",
   "execution_count": 34,
   "id": "33c09376",
   "metadata": {},
   "outputs": [],
   "source": [
    "df = df[df[\"datavalue\"].notnull()]\n"
   ]
  },
  {
   "cell_type": "code",
   "execution_count": 35,
   "id": "7add84c2",
   "metadata": {},
   "outputs": [],
   "source": [
    "# Convert 'datavalue' to numeric (just in case)\n",
    "df[\"datavalue\"] = pd.to_numeric(df[\"datavalue\"], errors='coerce')\n"
   ]
  },
  {
   "cell_type": "code",
   "execution_count": 36,
   "id": "7ea9ee70",
   "metadata": {},
   "outputs": [],
   "source": [
    "df.rename(columns={\n",
    "    \"yearstart\": \"year\",\n",
    "    \"locationdesc\": \"state\",\n",
    "    \"locationabbr\": \"state_code\",\n",
    "    \"datavalue\": \"value\",\n",
    "    \"datavaluetype\": \"value_type\",\n",
    "    \"lowconfidencelimit\": \"ci_lower\",\n",
    "    \"highconfidencelimit\": \"ci_upper\",\n",
    "    \"stratification1\": \"group\",\n",
    "    \"stratificationcategory1\": \"group_category\"\n",
    "}, inplace=True)"
   ]
  },
  {
   "cell_type": "code",
   "execution_count": 37,
   "id": "64a7b1f9",
   "metadata": {},
   "outputs": [],
   "source": [
    "df = df[[\n",
    "    \"year\", \"state_code\", \"state\", \"topic\", \"question\", \"value\", \"value_type\",\n",
    "    \"ci_lower\", \"ci_upper\", \"datavalueunit\", \"geolocation\",\n",
    "    \"group_category\", \"group\",\n",
    "    \"locationid\", \"topicid\", \"questionid\", \"datavaluetypeid\", \"stratificationcategoryid1\", \"stratificationid1\"\n",
    "]]"
   ]
  },
  {
   "cell_type": "code",
   "execution_count": 39,
   "id": "b8b09854",
   "metadata": {},
   "outputs": [],
   "source": [
    "df.rename(columns={'group':'group_name'}, inplace=True)"
   ]
  },
  {
   "cell_type": "markdown",
   "id": "c83be3f5",
   "metadata": {},
   "source": [
    "### Sampling only 200000 records because of the upload limit of SQLAlchemy and Snowflake"
   ]
  },
  {
   "cell_type": "code",
   "execution_count": 44,
   "id": "940af171",
   "metadata": {},
   "outputs": [],
   "source": [
    "df  = df.head(200000)"
   ]
  },
  {
   "cell_type": "markdown",
   "id": "8cc7a481",
   "metadata": {},
   "source": [
    "### Data will be uploaded in one go"
   ]
  },
  {
   "cell_type": "code",
   "execution_count": 45,
   "id": "4742eb42",
   "metadata": {},
   "outputs": [
    {
     "name": "stdout",
     "output_type": "stream",
     "text": [
      "Full cleaned dataset uploaded for deep analysis!\n"
     ]
    }
   ],
   "source": [
    "df.to_sql('clean_indicators', con=conn, if_exists='replace', index=False)\n",
    "\n",
    "print(\"Full cleaned dataset uploaded for deep analysis!\")"
   ]
  },
  {
   "cell_type": "code",
   "execution_count": null,
   "id": "9de9342e",
   "metadata": {},
   "outputs": [],
   "source": []
  }
 ],
 "metadata": {
  "kernelspec": {
   "display_name": "Python 3",
   "language": "python",
   "name": "python3"
  },
  "language_info": {
   "codemirror_mode": {
    "name": "ipython",
    "version": 3
   },
   "file_extension": ".py",
   "mimetype": "text/x-python",
   "name": "python",
   "nbconvert_exporter": "python",
   "pygments_lexer": "ipython3",
   "version": "3.11.8"
  }
 },
 "nbformat": 4,
 "nbformat_minor": 5
}
